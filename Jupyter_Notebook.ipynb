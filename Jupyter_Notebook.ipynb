{
  "metadata": {
    "kernelspec": {
      "name": "python",
      "display_name": "Pyolite",
      "language": "python"
    },
    "language_info": {
      "codemirror_mode": {
        "name": "python",
        "version": 3
      },
      "file_extension": ".py",
      "mimetype": "text/x-python",
      "name": "python",
      "nbconvert_exporter": "python",
      "pygments_lexer": "ipython3",
      "version": "3.8"
    }
  },
  "nbformat_minor": 4,
  "nbformat": 4,
  "cells": [
    {
      "cell_type": "markdown",
      "source": "<center>\n    <img src=\"https://cf-courses-data.s3.us.cloud-object-storage.appdomain.cloud/IBMDeveloperSkillsNetwork-DS0105EN-SkillsNetwork/labs/Module2/images/SN_web_lightmode.png\" width=\"300\" alt=\"cognitiveclass.ai logo\">\n</center>\n",
      "metadata": {}
    },
    {
      "cell_type": "markdown",
      "source": "# My Jupyter Notebook on IBM Watson Studio",
      "metadata": {}
    },
    {
      "cell_type": "markdown",
      "source": "**Donghwa Shin**",
      "metadata": {}
    },
    {
      "cell_type": "markdown",
      "source": "CEO",
      "metadata": {}
    },
    {
      "cell_type": "markdown",
      "source": "*Data Science is interesting because you can support your theory with data*",
      "metadata": {}
    },
    {
      "cell_type": "markdown",
      "source": "### The Following code shows Python can do simple calculation ###",
      "metadata": {}
    },
    {
      "cell_type": "code",
      "source": "(1+3)*6",
      "metadata": {
        "trusted": true
      },
      "execution_count": 2,
      "outputs": [
        {
          "execution_count": 2,
          "output_type": "execute_result",
          "data": {
            "text/plain": "24"
          },
          "metadata": {}
        }
      ]
    },
    {
      "cell_type": "markdown",
      "source": "------------",
      "metadata": {}
    },
    {
      "cell_type": "markdown",
      "source": "1. First\n2. Second",
      "metadata": {}
    },
    {
      "cell_type": "markdown",
      "source": "* First\n* Second",
      "metadata": {}
    },
    {
      "cell_type": "markdown",
      "source": "Table Example\n\n| First  | Second | sum  |\n| ------ |:------:| ----:|\n| 1      | 2      | 3    |",
      "metadata": {}
    }
  ]
}